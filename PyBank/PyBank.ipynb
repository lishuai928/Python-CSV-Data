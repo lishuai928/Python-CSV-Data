{
 "cells": [
  {
   "cell_type": "code",
   "execution_count": 1,
   "metadata": {},
   "outputs": [
    {
     "name": "stdout",
     "output_type": "stream",
     "text": [
      "Financial Analysis\n",
      "-----------------------------------\n",
      "Total Months: 86\n",
      "Total Revenue: $ 38382578\n",
      "Avereage Change: $ -2315.12\n",
      "Greatest Increase in Profits: Feb-2012 ($ 1926159 )\n",
      "Greatest Dncrease in losses: Sep-2013 ($ -2196167 )\n"
     ]
    }
   ],
   "source": [
    "import os\n",
    "import csv\n",
    "\n",
    "csvpath = os.path.join('.', 'Resources', 'budget_data.csv')\n",
    "\n",
    "with open(csvpath, newline=\"\") as csvfile:\n",
    "\n",
    "    csvreader = csv.reader(csvfile, delimiter=',')\n",
    "    \n",
    "    csv_header = next(csvfile)\n",
    "    \n",
    "    data = list(csvreader)\n",
    "    row_count = len(data)\n",
    "    \n",
    "    print(\"Financial Analysis\")\n",
    "    print(\"-----------------------------------\")\n",
    "    print(\"Total Months:\", row_count)\n",
    "    \n",
    "    date = []\n",
    "    revenue = []\n",
    "    revenue_change = []\n",
    "    total = 0   \n",
    "    \n",
    "    for row in data:\n",
    "        total += int(row[1])\n",
    "        date.append(row[0])\n",
    "        revenue.append(int(row[1]))\n",
    "\n",
    "    print(\"Total Revenue: $\", total) \n",
    "     \n",
    "        \n",
    "    for i in range(1,len(revenue)):\n",
    "        revenue_change.append(revenue[i] - revenue[i-1])\n",
    "        avg_rev_change = sum(revenue_change)/len(revenue_change)\n",
    "        \n",
    "        max_rev_change = max(revenue_change)\n",
    "        max_rev_change_date = str(date[revenue_change.index(max(revenue_change))+1])\n",
    "    \n",
    "        min_rev_change = min(revenue_change)\n",
    "        min_rev_change_date = str(date[revenue_change.index(min(revenue_change))+1])\n",
    "        \n",
    "    print(\"Avereage Change: $\", round(avg_rev_change,2))        \n",
    "    print(\"Greatest Increase in Profits:\", max_rev_change_date, \"($\",  max_rev_change,\")\")\n",
    "    print(\"Greatest Dncrease in losses:\", min_rev_change_date, \"($\", min_rev_change,\")\")\n",
    "    \n",
    "\n",
    "    \n",
    "output_path = os.path.join(\".\", \"Financial Analysis.txt\")\n",
    "file = open(\"Financial Analysis.txt\",\"w\")\n",
    "\n",
    "file.write(\"Financial Analysis\" + \"\\n\")\n",
    "file.write(\"-----------------------------------\" + \"\\n\")\n",
    "file.write(\"Total Months: \" + repr(row_count) + \"\\n\")\n",
    "file.write(\"Total Revenue: $\" + repr(total) + \"\\n\")\n",
    "file.write(\"Avereage Change: $\" + repr(round(avg_rev_change,2)) + \"\\n\")\n",
    "file.write(\"Greatest Increase in Profits:\" + str(max_rev_change_date) + \"($\" + repr(max_rev_change) + \")\" + \"\\n\")\n",
    "file.write(\"Greatest Dncrease in losses:\" + str(min_rev_change_date) + \"($\" + repr(min_rev_change) + \")\" + \"\\n\")\n",
    "    \n",
    "file.close()\n",
    "\n",
    "\n",
    "\n"
   ]
  },
  {
   "cell_type": "code",
   "execution_count": null,
   "metadata": {},
   "outputs": [],
   "source": []
  }
 ],
 "metadata": {
  "kernelspec": {
   "display_name": "Python 3",
   "language": "python",
   "name": "python3"
  },
  "language_info": {
   "codemirror_mode": {
    "name": "ipython",
    "version": 3
   },
   "file_extension": ".py",
   "mimetype": "text/x-python",
   "name": "python",
   "nbconvert_exporter": "python",
   "pygments_lexer": "ipython3",
   "version": "3.6.6"
  }
 },
 "nbformat": 4,
 "nbformat_minor": 2
}
