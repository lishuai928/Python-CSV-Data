{
 "cells": [
  {
   "cell_type": "code",
   "execution_count": 22,
   "metadata": {
    "scrolled": true
   },
   "outputs": [
    {
     "name": "stdout",
     "output_type": "stream",
     "text": [
      "Election Results\n",
      "-----------------------------------\n",
      "Total Votes: 3521001\n",
      "-----------------------------------\n",
      "Khan: 63.0 % ( 2218231 )\n",
      "Correy: 20.0 % ( 704200 )\n",
      "Li: 14.0 % ( 492940 )\n",
      "O'Tooley: 3.0 % ( 105630 )\n",
      "-----------------------------------\n",
      "Winner: Khan\n",
      "-----------------------------------\n"
     ]
    }
   ],
   "source": [
    "import os\n",
    "import csv\n",
    "\n",
    "csvpath = os.path.join('.', 'Resources', 'election_data.csv')\n",
    "\n",
    "with open(csvpath, newline=\"\") as csvfile:\n",
    "\n",
    "    csvreader = csv.reader(csvfile, delimiter=',')\n",
    "    \n",
    "    csv_header = next(csvfile)\n",
    "    \n",
    "    voter_id = []\n",
    "    #county = []\n",
    "    #candidate = []\n",
    "    khan = 0\n",
    "    correy = 0\n",
    "    li = 0\n",
    "    tooley = 0\n",
    "    \n",
    "    \n",
    "    for row in csvreader:\n",
    "        \n",
    "        voter_id.append(row[0])\n",
    "        total = len(voter_id)\n",
    "\n",
    "        if row[2] == 'Khan':\n",
    "            khan += 1\n",
    "        elif row[2] == \"Correy\":\n",
    "            correy += 1\n",
    "        elif row[2] == \"Li\":\n",
    "            li += 1\n",
    "        elif row[2] == \"O'Tooley\":\n",
    "            tooley += 1            \n",
    "    \n",
    "    print(\"Election Results\")\n",
    "    print(\"-----------------------------------\")\n",
    "    print(\"Total Votes:\", total)\n",
    "    print(\"-----------------------------------\")\n",
    "    \n",
    "    khan_percent = round(khan/total*100, 4)\n",
    "    correy_percent = round(correy/total*100, 4)\n",
    "    li_percent = round(li/total*100, 4)\n",
    "    tooley_percent = round(tooley/total*100, 4)\n",
    "    \n",
    "    percent = [khan_percent,correy_percent,li_percent,tooley_percent]\n",
    "    name = [\"Khan\",\"Correy\",\"Li\",\"O'Tooley\"]\n",
    "    \n",
    "    winner = name[percent.index(max(percent))]\n",
    "    \n",
    "    print(\"Khan:\", khan_percent,\"%\",\"(\",khan,\")\")\n",
    "    print(\"Correy:\", correy_percent,\"%\",\"(\",correy,\")\")\n",
    "    print(\"Li:\", li_percent,\"%\",\"(\",li,\")\")\n",
    "    print(\"O'Tooley:\", tooley_percent,\"%\",\"(\",tooley,\")\")\n",
    "    print(\"-----------------------------------\")\n",
    "    print(\"Winner:\", winner)\n",
    "    print(\"-----------------------------------\")\n",
    "    \n",
    "    \n",
    "output_path = os.path.join(\".\", \"Election Results.txt\")\n",
    "\n",
    "with open(output_path, 'w') as text_file:\n",
    "    print(f\"Election Results\", file = text_file)\n",
    "    print(f\"-----------------------------------\", file = text_file)\n",
    "    print(f\"Total Votes: {total}\", file = text_file)\n",
    "    print(f\"-----------------------------------\", file = text_file)\n",
    "    print(f\"Khan: {khan_percent}% ({khan})\", file = text_file)\n",
    "    print(f\"Correy: {correy_percent}% ({correy})\", file = text_file)\n",
    "    print(f\"Li: {li_percent}% ({li})\", file = text_file)\n",
    "    print(f\"O'Tooley: {tooley_percent}% ({tooley})\", file = text_file)\n",
    "    print(f\"-----------------------------------\", file = text_file)\n",
    "    print(f\"Winner: {winner}\", file = text_file)\n",
    "    print(f\"-----------------------------------\", file = text_file)    \n"
   ]
  },
  {
   "cell_type": "code",
   "execution_count": null,
   "metadata": {},
   "outputs": [],
   "source": []
  }
 ],
 "metadata": {
  "kernelspec": {
   "display_name": "Python 3",
   "language": "python",
   "name": "python3"
  },
  "language_info": {
   "codemirror_mode": {
    "name": "ipython",
    "version": 3
   },
   "file_extension": ".py",
   "mimetype": "text/x-python",
   "name": "python",
   "nbconvert_exporter": "python",
   "pygments_lexer": "ipython3",
   "version": "3.6.6"
  }
 },
 "nbformat": 4,
 "nbformat_minor": 2
}
